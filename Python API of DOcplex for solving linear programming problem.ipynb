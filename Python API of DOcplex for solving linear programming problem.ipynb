{
 "cells": [
  {
   "cell_type": "markdown",
   "metadata": {},
   "source": [
    "# Python API of DOcplex for solving linear programming problems \n",
    "\n",
    "In this tutorial, we will learn how to write a model for linear programming problems using Python API and solve the model using IBM Decision Optimization CPLEX (DOcplex) Modeling for Python on your computer with IBM ILOG CPLEX Optimization Studio. Here, we will assume that Python3 and IBM ILOG CPLEX Optimization Studio v12.8 or later are installed on your machine."
   ]
  },
  {
   "cell_type": "markdown",
   "metadata": {},
   "source": [
    "### Example problem \n",
    "\n",
    "Consider a chocolate manufacturing company that produces only two types of chocolate – A and B. Both the chocolates require Milk and Choco only.  To manufacture each unit of A and B, the following quantities are required:\n",
    "\n",
    "- Each unit of A requires 1 unit of Milk and 3 units of Choco\n",
    "- Each unit of B requires 1 unit of Milk and 2 units of Choco\n",
    "\n",
    "The company kitchen has a total of 5 units of Milk and 12 units of Choco. On each sale, the company makes a profit of\n",
    "\n",
    "- Rs 6 per unit A sold\n",
    "- Rs 5 per unit B sold.\n",
    "\n",
    "Now, the company wishes to maximize its profit. How many units of A and B should it produce, respectively? \n",
    "\n",
    "Model this problem by using the Python API and solve it using IBM Decision Optimization CPLEX (DOcplex) Modeling for Python on your computer with IBM ILOG CPLEX Optimization Studio. "
   ]
  },
  {
   "cell_type": "markdown",
   "metadata": {},
   "source": [
    "### Mathematical formulation \n",
    "**Decision variables:**\n",
    "* $x$ be the total number of units produced by A\n",
    "* $y$ be the total number of units produced by B \n",
    "\n",
    "**Objective function:** \n",
    "\n",
    "$$Maximize~~6x + 5y$$\n",
    "\n",
    "**Constraints:**\n",
    "$$x + y \\leq 5$$\n",
    "$$3x + 2y \\leq 12$$ \n",
    "$$x \\geq 0$$\n",
    "$$y \\geq 0$$ "
   ]
  },
  {
   "cell_type": "markdown",
   "metadata": {},
   "source": [
    "### IBM Decision Optimization Modeling for Python (DOcplex) "
   ]
  },
  {
   "cell_type": "markdown",
   "metadata": {},
   "source": [
    "**Import required packages**"
   ]
  },
  {
   "cell_type": "code",
   "execution_count": 1,
   "metadata": {},
   "outputs": [],
   "source": [
    "import cplex\n",
    "import docplex.mp\n",
    "import sys\n",
    "import json\n",
    "from docplex.util.environment import get_environment\n",
    "from docplex.mp.model import Model"
   ]
  },
  {
   "cell_type": "markdown",
   "metadata": {},
   "source": [
    "**Create a model**"
   ]
  },
  {
   "cell_type": "code",
   "execution_count": 2,
   "metadata": {},
   "outputs": [],
   "source": [
    "# Create model\n",
    "model = Model(name='LP_example', log_output=True)"
   ]
  },
  {
   "cell_type": "markdown",
   "metadata": {},
   "source": [
    "**Define decision variables of the model**"
   ]
  },
  {
   "cell_type": "code",
   "execution_count": 3,
   "metadata": {},
   "outputs": [],
   "source": [
    "x = model.continuous_var(name='x')\n",
    "y = model.continuous_var(name='y')"
   ]
  },
  {
   "cell_type": "markdown",
   "metadata": {},
   "source": [
    "Note that by default, all variables in Docplex have a lower bound of 0 and infinite upper bound. "
   ]
  },
  {
   "cell_type": "markdown",
   "metadata": {},
   "source": [
    "**Define objective function of the model** "
   ]
  },
  {
   "cell_type": "code",
   "execution_count": 4,
   "metadata": {},
   "outputs": [],
   "source": [
    "model.maximize(6*x + 5*y) "
   ]
  },
  {
   "cell_type": "markdown",
   "metadata": {},
   "source": [
    "Here, the problem is a maximization problem. "
   ]
  },
  {
   "cell_type": "markdown",
   "metadata": {},
   "source": [
    "**Add constraints to the model**"
   ]
  },
  {
   "cell_type": "code",
   "execution_count": 5,
   "metadata": {},
   "outputs": [],
   "source": [
    "model.add_constraint(x + y <= 5)\n",
    "model.add_constraint(3*x + 2*y <= 12); # to suppress the unnecessary output, use a command at the end "
   ]
  },
  {
   "cell_type": "markdown",
   "metadata": {},
   "source": [
    "Note that we don't need to include the non-negativity constraints ($x, y \\geq 0$) because, by default, all variables in Docplex have a lower bound of 0 and infinite upper bound.  "
   ]
  },
  {
   "cell_type": "markdown",
   "metadata": {},
   "source": [
    "**Print information about the created model** "
   ]
  },
  {
   "cell_type": "code",
   "execution_count": 6,
   "metadata": {},
   "outputs": [
    {
     "name": "stdout",
     "output_type": "stream",
     "text": [
      "Model: LP_example\n",
      " - number of variables: 2\n",
      "   - binary=0, integer=0, continuous=2\n",
      " - number of constraints: 2\n",
      "   - linear=2\n",
      " - parameters: defaults\n",
      " - objective: maximize\n",
      " - problem type is: LP\n"
     ]
    }
   ],
   "source": [
    "model.print_information()"
   ]
  },
  {
   "cell_type": "markdown",
   "metadata": {},
   "source": [
    "**Solve the model**"
   ]
  },
  {
   "cell_type": "code",
   "execution_count": 7,
   "metadata": {},
   "outputs": [
    {
     "name": "stdout",
     "output_type": "stream",
     "text": [
      "Version identifier: 12.10.0.0 | 2019-11-27 | 843d4de\n",
      "CPXPARAM_Read_DataCheck                          1\n",
      "Tried aggregator 1 time.\n",
      "No LP presolve or aggregator reductions.\n",
      "Presolve time = 0.01 sec. (0.00 ticks)\n",
      "\n",
      "Iteration log . . .\n",
      "Iteration:     1   Dual infeasibility =             0.000000\n",
      "Iteration:     2   Dual objective     =            27.000000\n",
      "objective: 27.000\n",
      "  x=2.000\n",
      "  y=3.000\n"
     ]
    }
   ],
   "source": [
    "sol_model = model.solve()\n",
    "model.print_solution()"
   ]
  }
 ],
 "metadata": {
  "kernelspec": {
   "display_name": "Python 3",
   "language": "python",
   "name": "python3"
  },
  "language_info": {
   "codemirror_mode": {
    "name": "ipython",
    "version": 3
   },
   "file_extension": ".py",
   "mimetype": "text/x-python",
   "name": "python",
   "nbconvert_exporter": "python",
   "pygments_lexer": "ipython3",
   "version": "3.6.5"
  }
 },
 "nbformat": 4,
 "nbformat_minor": 2
}
